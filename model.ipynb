{
 "cells": [
  {
   "cell_type": "code",
   "execution_count": 1,
   "id": "b785dc45",
   "metadata": {},
   "outputs": [
    {
     "name": "stdout",
     "output_type": "stream",
     "text": [
      "cuda\n"
     ]
    }
   ],
   "source": [
    "import pandas as pd\n",
    "import torch\n",
    "import torch.nn as nn\n",
    "device  = 'cuda' if torch.cuda.is_available() else 'cpu'\n",
    "print(device)\n",
    "# Load the CSV files into pandas DataFrames\n",
    "english_df = pd.read_csv('english_bible.csv') \n",
    "igala_df = pd.read_csv('igala_bible.csv')\n",
    "\n",
    "# Convert columns to consistent types (if needed)\n",
    "english_df['Book'] = english_df['Book'].astype(str)\n",
    "english_df['Chapter'] = english_df['Chapter'].astype(int)\n",
    "english_df['Verse'] = english_df['Verse'].astype(int)\n",
    "\n",
    "igala_df['Book'] = igala_df['Book'].astype(str)\n",
    "igala_df['Chapter'] = igala_df['Chapter'].astype(int)\n",
    "igala_df['Verse'] = igala_df['Verse'].astype(int)\n",
    "\n",
    "# Merge the DataFrames based on \"Book\", \"Chapter\", and \"Verse\"\n",
    "merged_df = pd.merge(english_df, igala_df, on=['Book', 'Chapter', 'Verse'], how='left')\n",
    "\n",
    "# Rename the \"Text\" columns for clarity\n",
    "merged_df = merged_df.rename(columns={'Text_x': 'English_Text', 'Text_y': 'Igala_Text'})\n",
    "\n",
    "# Save the merged DataFrame to a new CSV file\n",
    "merged_df.to_csv('merged_bible.csv', index=False, encoding='utf-8')"
   ]
  },
  {
   "cell_type": "code",
   "execution_count": 2,
   "id": "c81f0da2",
   "metadata": {},
   "outputs": [
    {
     "name": "stdout",
     "output_type": "stream",
     "text": [
      "[('ma', 23376), ('i', 14373), ('ki', 13615), ('ku', 12502), ('la', 10338), ('oñ', 10050), ('kpai', 9440), ('le̩', 9038), ('kʼi', 8822), ('ñw', 8809)]\n"
     ]
    }
   ],
   "source": [
    "import pandas as pd\n",
    "from collections import Counter\n",
    "\n",
    "# Load the merged CSV file\n",
    "df = pd.read_csv('merged_bible.csv')\n",
    "\n",
    "# Combine all Igala text into a single string\n",
    "igala_text = ' '.join(df['Igala_Text'].dropna()) \n",
    "\n",
    "# Tokenize the text (split into words)\n",
    "words = igala_text.lower().split()\n",
    "\n",
    "# Calculate word frequencies\n",
    "word_counts = Counter(words)\n",
    "\n",
    "# Print the 1000 most frequent words\n",
    "print(word_counts.most_common(10)) "
   ]
  },
  {
   "cell_type": "code",
   "execution_count": 3,
   "id": "d98142af",
   "metadata": {},
   "outputs": [],
   "source": [
    "import pandas as pd\n",
    "\n",
    "# Load the CSV file into a pandas DataFrame \n",
    "df = pd.read_csv('merged_bible.csv') \n",
    "\n",
    "# Drop the specified columns\n",
    "df = df.drop(['Book', 'Chapter', 'Verse'], axis=1)\n",
    "\n",
    "# Save the modified DataFrame to a new CSV file\n",
    "df.to_csv('bible_text_only.csv', index=False) "
   ]
  },
  {
   "cell_type": "code",
   "execution_count": 4,
   "id": "eea82cbf",
   "metadata": {},
   "outputs": [],
   "source": [
    "dd = pd.read_csv('bible_text_only.csv')"
   ]
  },
  {
   "cell_type": "code",
   "execution_count": 5,
   "id": "3dd8c5f1",
   "metadata": {},
   "outputs": [
    {
     "data": {
      "text/html": [
       "<div>\n",
       "<style scoped>\n",
       "    .dataframe tbody tr th:only-of-type {\n",
       "        vertical-align: middle;\n",
       "    }\n",
       "\n",
       "    .dataframe tbody tr th {\n",
       "        vertical-align: top;\n",
       "    }\n",
       "\n",
       "    .dataframe thead th {\n",
       "        text-align: right;\n",
       "    }\n",
       "</style>\n",
       "<table border=\"1\" class=\"dataframe\">\n",
       "  <thead>\n",
       "    <tr style=\"text-align: right;\">\n",
       "      <th></th>\n",
       "      <th>English_Text</th>\n",
       "      <th>Igala_Text</th>\n",
       "    </tr>\n",
       "  </thead>\n",
       "  <tbody>\n",
       "    <tr>\n",
       "      <th>0</th>\n",
       "      <td>In the beginning God created the heaven and th...</td>\n",
       "      <td>E̩gba abakwane̩ ejodudu O̩jo̩ nyi efojale kpai...</td>\n",
       "    </tr>\n",
       "    <tr>\n",
       "      <th>1</th>\n",
       "      <td>And the earth was without form, and void; and ...</td>\n",
       "      <td>Ane̩-ile̩-i la de̩ juguu te̩ ofofo, oñ e̩chubi...</td>\n",
       "    </tr>\n",
       "    <tr>\n",
       "      <th>2</th>\n",
       "      <td>And God said, Let there be light: and there wa...</td>\n",
       "      <td>Oñ O̩jo̩ kakini, Ugane̩ ki do̩mo̩; tak ugane̩ ...</td>\n",
       "    </tr>\n",
       "    <tr>\n",
       "      <th>3</th>\n",
       "      <td>And God saw the light, that</td>\n",
       "      <td>O̩jo̩ la fʼugane̩ le̩ li kʼi nyo̩; tak O̩jo̩ f...</td>\n",
       "    </tr>\n",
       "    <tr>\n",
       "      <th>4</th>\n",
       "      <td>And God called the light Day, and the darkness...</td>\n",
       "      <td>O̩jo̩ la do̩ ugane̩ le̩ ko̩ o̩ro̩ka, e̩chubi i...</td>\n",
       "    </tr>\n",
       "    <tr>\n",
       "      <th>...</th>\n",
       "      <td>...</td>\n",
       "      <td>...</td>\n",
       "    </tr>\n",
       "    <tr>\n",
       "      <th>31075</th>\n",
       "      <td>And the Spirit and the bride say, Come. And le...</td>\n",
       "      <td>TʼAfu, tʼo̩ya-etito̩ le̩ kakini, Lewa. E̩ne̩ k...</td>\n",
       "    </tr>\n",
       "    <tr>\n",
       "      <th>31076</th>\n",
       "      <td>For I testify unto every man that heareth the ...</td>\n",
       "      <td>Omi agbibenu ñw e̩ne̩ du ki agbo̩ o̩la ache̩-e...</td>\n",
       "    </tr>\n",
       "    <tr>\n",
       "      <th>31077</th>\n",
       "      <td>and if any man shall take away from the words ...</td>\n",
       "      <td>i la che̩wñ kʼe̩ne̩ du muchi kwef o̩la ibuku a...</td>\n",
       "    </tr>\n",
       "    <tr>\n",
       "      <th>31078</th>\n",
       "      <td>He which testifieth these things saith,</td>\n",
       "      <td>E̩ne̩ ki gbigbenu e̩wñ-i kakini, I-i; nawa pio...</td>\n",
       "    </tr>\n",
       "    <tr>\n",
       "      <th>31079</th>\n",
       "      <td>The grace of our Lord Jesus Christ</td>\n",
       "      <td>Ufe̩de̩nyo̩ Ondu Jisus Kraisti ki dugbo abo ki...</td>\n",
       "    </tr>\n",
       "  </tbody>\n",
       "</table>\n",
       "<p>31080 rows × 2 columns</p>\n",
       "</div>"
      ],
      "text/plain": [
       "                                            English_Text  \\\n",
       "0      In the beginning God created the heaven and th...   \n",
       "1      And the earth was without form, and void; and ...   \n",
       "2      And God said, Let there be light: and there wa...   \n",
       "3                            And God saw the light, that   \n",
       "4      And God called the light Day, and the darkness...   \n",
       "...                                                  ...   \n",
       "31075  And the Spirit and the bride say, Come. And le...   \n",
       "31076  For I testify unto every man that heareth the ...   \n",
       "31077  and if any man shall take away from the words ...   \n",
       "31078            He which testifieth these things saith,   \n",
       "31079                 The grace of our Lord Jesus Christ   \n",
       "\n",
       "                                              Igala_Text  \n",
       "0      E̩gba abakwane̩ ejodudu O̩jo̩ nyi efojale kpai...  \n",
       "1      Ane̩-ile̩-i la de̩ juguu te̩ ofofo, oñ e̩chubi...  \n",
       "2      Oñ O̩jo̩ kakini, Ugane̩ ki do̩mo̩; tak ugane̩ ...  \n",
       "3      O̩jo̩ la fʼugane̩ le̩ li kʼi nyo̩; tak O̩jo̩ f...  \n",
       "4      O̩jo̩ la do̩ ugane̩ le̩ ko̩ o̩ro̩ka, e̩chubi i...  \n",
       "...                                                  ...  \n",
       "31075  TʼAfu, tʼo̩ya-etito̩ le̩ kakini, Lewa. E̩ne̩ k...  \n",
       "31076  Omi agbibenu ñw e̩ne̩ du ki agbo̩ o̩la ache̩-e...  \n",
       "31077  i la che̩wñ kʼe̩ne̩ du muchi kwef o̩la ibuku a...  \n",
       "31078  E̩ne̩ ki gbigbenu e̩wñ-i kakini, I-i; nawa pio...  \n",
       "31079  Ufe̩de̩nyo̩ Ondu Jisus Kraisti ki dugbo abo ki...  \n",
       "\n",
       "[31080 rows x 2 columns]"
      ]
     },
     "execution_count": 5,
     "metadata": {},
     "output_type": "execute_result"
    }
   ],
   "source": [
    "dd\n"
   ]
  },
  {
   "cell_type": "code",
   "execution_count": 7,
   "id": "826fd763",
   "metadata": {},
   "outputs": [],
   "source": [
    "import pandas as pd\n",
    "\n",
    "# 1. Load the CSV file into a Pandas DataFrame\n",
    "df = pd.read_csv('bible_text_only.csv')\n",
    "\n",
    "# 2. Convert the DataFrame to JSONL\n",
    "with open('bible_data.jsonl', 'w', encoding='utf-8') as jsonl_file:\n",
    "    for index, row in df.iterrows():\n",
    "        data = {\n",
    "            \"English_Text\": row[\"English_Text\"],\n",
    "            \"Igala_Text\": row[\"Igala_Text\"]\n",
    "        }\n",
    "        jsonl_file.write(f\"{data}\\n\")"
   ]
  },
  {
   "cell_type": "code",
   "execution_count": 13,
   "id": "ec7b0d22",
   "metadata": {},
   "outputs": [
    {
     "ename": "ModuleNotFoundError",
     "evalue": "No module named 'google.gemini'",
     "output_type": "error",
     "traceback": [
      "\u001b[1;31m---------------------------------------------------------------------------\u001b[0m",
      "\u001b[1;31mModuleNotFoundError\u001b[0m                       Traceback (most recent call last)",
      "Cell \u001b[1;32mIn[13], line 4\u001b[0m\n\u001b[0;32m      1\u001b[0m \u001b[38;5;66;03m# This is a CONCEPTUAL example and may need \u001b[39;00m\n\u001b[0;32m      2\u001b[0m \u001b[38;5;66;03m# to be adapted based on the Gemini API.\u001b[39;00m\n\u001b[1;32m----> 4\u001b[0m \u001b[38;5;28;01mfrom\u001b[39;00m \u001b[38;5;21;01mgoogle\u001b[39;00m\u001b[38;5;21;01m.\u001b[39;00m\u001b[38;5;21;01mgemini\u001b[39;00m \u001b[38;5;28;01mimport\u001b[39;00m GeminiClient \n\u001b[0;32m      6\u001b[0m \u001b[38;5;66;03m# 1. Initialize the Gemini client\u001b[39;00m\n\u001b[0;32m      7\u001b[0m gemini_client \u001b[38;5;241m=\u001b[39m GeminiClient() \n",
      "\u001b[1;31mModuleNotFoundError\u001b[0m: No module named 'google.gemini'"
     ]
    }
   ],
   "source": [
    "# # This is a CONCEPTUAL example and may need \n",
    "# # to be adapted based on the Gemini API.\n",
    "\n",
    "# from google.gemini import GeminiClient \n",
    "\n",
    "# # 1. Initialize the Gemini client\n",
    "# gemini_client = GeminiClient() \n",
    "\n",
    "# # 2. Prepare your training data (adjust path and format as needed)\n",
    "# training_data = \"path/to/your/training_data.jsonl\"\n",
    "\n",
    "# # 3. Define fine-tuning parameters (refer to Gemini documentation)\n",
    "# training_config = {\n",
    "#     \"model\": \"gemini-pro\", # Replace with the desired model\n",
    "#     # ... other parameters like learning_rate, batch_size, etc.\n",
    "# }\n",
    "\n",
    "# # 4. Start the fine-tuning job\n",
    "# job = gemini_client.fine_tune(\n",
    "#     training_data=training_data,\n",
    "#     training_config=training_config\n",
    "# )\n",
    "\n",
    "# # 5. Monitor the job (optional)\n",
    "# job.monitor() \n",
    "\n",
    "# # 6. Save and use the fine-tuned model\n",
    "# # (Follow instructions from Gemini documentation)"
   ]
  },
  {
   "cell_type": "code",
   "execution_count": 12,
   "id": "7c342454-f53a-43cb-9f05-0117dae3414d",
   "metadata": {},
   "outputs": [
    {
     "name": "stdout",
     "output_type": "stream",
     "text": [
      "Vocabulary size: 64129\n",
      "Vocabulary saved to 'vocab.txt'\n"
     ]
    }
   ],
   "source": [
    "import pandas as pd\n",
    "\n",
    "# 1. Load your dataset \n",
    "df = pd.read_csv('merged_bible.csv') \n",
    "\n",
    "# 2. Combine the text from both language columns\n",
    "all_text = ' '.join(df['English_Text'].fillna('')) + ' ' + ' '.join(df['Igala_Text'].fillna(''))\n",
    "\n",
    "# 3. Tokenize the text\n",
    "words = all_text.lower().split() # You might need more sophisticated tokenization\n",
    "\n",
    "# 4. Create the vocabulary (set ensures unique words)\n",
    "vocabulary = sorted(set(words)) \n",
    "\n",
    "# 5. Add special tokens \n",
    "vocabulary = ['<pad>', '<unk>', '<start>', '<end>'] + vocabulary # Common special tokens\n",
    "\n",
    "# 6. Save the vocabulary to vocab.txt\n",
    "with open('vocab.txt', 'w', encoding='utf-8') as f:\n",
    "    for word in vocabulary:\n",
    "        f.write(word + '\\n')\n",
    "\n",
    "print(f\"Vocabulary size: {len(vocabulary)}\")\n",
    "print(\"Vocabulary saved to 'vocab.txt'\")"
   ]
  },
  {
   "cell_type": "code",
   "execution_count": 14,
   "id": "a9e9bd9e-4342-473c-988b-4aee910fedd0",
   "metadata": {},
   "outputs": [],
   "source": [
    "# import pandas as pd\n",
    "# from sklearn.model_selection import train_test_split\n",
    "\n",
    "# # ... (Load and split the data as before)\n",
    "\n",
    "# def save_to_txt(df, filename):\n",
    "#     \"\"\"Saves the 'English_Text' and 'Igala_Text' columns to a TXT file, \n",
    "#        handling missing values.\n",
    "#     \"\"\"\n",
    "#     with open(filename, 'w', encoding='utf-8') as f:\n",
    "#         for index, row in df.iterrows():\n",
    "#             english_text = str(row['English_Text']) if not pd.isna(row['English_Text']) else \"\"\n",
    "#             igala_text = str(row['Igala_Text']) if not pd.isna(row['Igala_Text']) else \"\"\n",
    "#             f.write(english_text + '\\t' + igala_text + '\\n')\n",
    "\n",
    "# save_to_txt(train_df, 'train.txt')\n",
    "# save_to_txt(val_df, 'validation.txt')"
   ]
  },
  {
   "cell_type": "code",
   "execution_count": 5,
   "id": "7f0c12ea-4f7d-4cf4-831d-e52b6486c557",
   "metadata": {},
   "outputs": [
    {
     "name": "stdout",
     "output_type": "stream",
     "text": [
      "[('ku ma', 9445), ('kakini ,', 6899), (', oñ', 3824), (', i', 3300), ('. Tak', 3297), ('n ,', 3252), ('. Oñ', 2775), ('le̩ ,', 2410), ('oñ i', 2371), ('ñw u', 1924), ('ku me̩', 1911), (', ma', 1872), (', kpai', 1734), ('. Taku', 1715), ('ka ñw', 1703), (', kʼi', 1524), (', owñ', 1499), ('ñwu ma', 1478), ('n ;', 1452), ('oñ ma', 1439), ('le̩ .', 1428), ('i la', 1348), ('ma la', 1282), ('ka ñwu', 1249), ('; oñ', 1228), (', ku', 1220), ('. I', 1219), ('Tak i', 1153), ('; todu', 1137), (', todu', 1114), ('Jihofa ,', 935), ('ma ,', 913), (', tak', 901), ('Oñ i', 887), ('abo ku', 883), (', kʼe̩', 868), ('; i', 848), (', o̩ma', 840), (', me̩', 828), ('u kakini', 827), ('ma kakini', 822), ('tak i', 800), ('. Todu', 797), ('du ki', 788), ('go ,', 785), ('ñw e̩', 779), ('i kakini', 764), ('; tak', 747), ('du ku', 737), ('je̩ ñw', 726), ('ñwu mi', 712), ('me̩ ,', 710), ('ki Jihofa', 699), (', kakini', 698), (', e̩', 689), ('I la', 675), ('ñwu me̩', 674), ('le̩ ;', 670), ('i ka', 655), ('n ?', 653), ('du ,', 649), ('. Abe̩le̩', 643), ('de̩ ,', 618), ('abo Israe̩l', 601), ('te̩ ,', 591), ('e̩wñ du', 585), ('mʼu du', 583), (', I', 581), ('ma ma', 580), ('ge̩ .', 576), ('ma che', 572), ('du kʼi', 567), (', alu', 567), ('. Todule̩', 566), (', Jihofa', 563), ('e̩ne̩ ki', 560), ('; ma', 553), (', Me̩', 553), ('ki la', 551), ('ki ma', 547), ('ñw abo', 547), ('me̩ ki', 541), ('abu ku', 533), ('kʼi la', 527), (', O', 524), ('Taku ma', 523), ('me̩ .', 522), ('e̩ne̩ du', 513), ('Jihofa ka', 507), ('abu kʼi', 505), ('che ,', 500), (', e̩ne̩', 493), ('ma .', 490), ('de̩ .', 488), ('. Ama', 488), ('e̩wñ ki', 486), ('Go ,', 482), ('wa ,', 479), ('taku ma', 471), (', uwe̩', 465), (', u', 458), ('kpai abo', 456), ('ma ka', 454), (', E̩wñ', 453), ('. Ma', 449), (', omi', 434), ('icham nyʼo̩gwo̩ko̩', 425), ('amone̩ le̩', 422), ('ge̩ ,', 419), (', E̩', 405), ('i che', 402), ('. Me̩', 400), ('kʼi ma', 398), ('kpai e̩wñ', 396), (', chai', 395), ('e̩gba ku', 393), ('e̩ ki', 392), ('le̩ du', 390), ('mi ,', 384), ('de̩ kakini', 381), ('che .', 380), (', abu', 379), ('E̩ ki', 372), ('me̩ ;', 371), (', todabu', 361), ('ñwu Jihofa', 359), ('du ñw', 358), (', E̩ne̩', 357), ('chaka ,', 357), ('Oñ abu', 351), (', Uwe̩', 350), ('alu ku', 345), (', O̩jo̩', 344), ('me̩ la', 344), ('le̩ de̩', 340), ('ma du', 339), ('Jihofa ki', 336), ('che e̩wñ', 334), ('Israe̩l ,', 333), (', e̩gba', 332), (', e̩wñ', 326), (', Omi', 325), (', onu', 323), ('le̩ la', 318), (', mak', 318), (', abe̩k', 318), ('la go', 317), ('kʼe̩ la', 317), ('; me̩', 316), (', Go', 315), ('te̩ .', 306), ('abo uche̩ichi', 306), ('la che̩wñ', 306), ('Me̩ ki', 305), ('uwe̩ ki', 303), ('ge̩ n', 302), ('u ,', 302), ('n. Tak', 302), ('Taku Jihofa', 297), ('la che', 297), ('ef unyi', 296), (', Ma', 290), ('Tak e̩gba', 285), ('ñw a', 285), ('. E̩', 284), ('kʼama ki', 284), ('oj ane̩', 283), ('Oñ ma', 282), (', Todu', 281), ('O̩jo̩ ,', 278), ('. E̩ne̩', 272), (', Abu', 272), ('le̩ chaka', 272), ('nʼe̩wñ du', 272), ('le̩ kakini', 268), (', gbogbo', 268), (', abo', 268), ('e̩gba kʼi', 268), ('ma ;', 267), ('kpa ,', 267), ('akwo̩ra unyi', 265), ('ñw e̩ne̩', 265), ('ki bo̩', 264), ('ñw ma', 263), ('i lewatu', 260), ('ma ko', 260), ('amo̩ma Israe̩l', 260), ('? Oñ', 258), ('E̩ne̩ ki', 258), ('e̩ne̩ le̩', 256), ('alu ki', 256), ('ma mʼu', 255), ('ubo̩ iche̩bo̩', 255), ('O Jihofa', 254), ('Jihofa O̩jo̩-we̩', 254), ('le̩ n', 253), ('ñwu Mose̩s', 253), ('je̩ ñwu', 251), ('? Tak', 250), ('ma je̩', 250), ('I muda', 247), (', ama', 246), ('gbogbo tak', 245), ('i muda', 243), (', taku', 242), ('ki nʼe̩wñ', 242), ('i mʼu', 241), ('ñw u.', 241), ('Tak u', 241), (', kʼu', 241), ('ewo le̩', 240), ('kʼi che', 239), ('todu i', 239), ('dufu ,', 238), ('? I', 238), ('; ama', 237), ('ku Jihofa', 236), ('ma ño̩', 233), (', ame̩', 232), ('i ño̩', 231), ('E̩wñ chi', 231), ('ki we', 231), ('e̩ne̩ kʼi', 230), ('ñw mi', 230), (', a', 230), ('le̩ ma', 228), ('du .', 228), (', Ondu', 228), ('ma lewa', 227), ('. Amo̩ma', 226), ('; e̩', 224), ('u la', 223), ('mi kakini', 223), ('; taku', 222), ('e̩wñ ku', 222), ('ge̩ ;', 221), ('ñw O̩jo̩', 221), ('oñ u', 220), ('Ma la', 220), ('ma dodo', 220), ('aje̩ ñw', 219), (', U', 219), ('Jihofa .', 218), ('wa .', 218), ('Israe̩l chaka', 218), ('ane̩ le̩', 216), ('ma jo̩', 215), ('tak u', 214), ('Tak onu', 212), ('. E̩wñ', 211), ('unyi Jihofa', 209), ('ko wa', 208), ('. Abo', 207), ('n. Oñ', 207), ('e̩ la', 207), ('ma n', 207), ('chaka .', 206), ('ma li', 205), (', ugbo', 205), ('aka de̩', 205), ('le ,', 204), ('ñwa ñwu', 203), ('onu ,', 203), ('. E̩gba', 202), ('Uwe̩ ki', 201), ('ache e̩wñ', 201), ('todu kʼi', 201), ('ka de̩', 201), ('. Abu', 200), ('. Uwe̩', 198), ('ugbo ku', 198), ('kpa .', 197), ('ma ne̩', 197), (', go', 197), ('li ,', 196), ('ki de̩', 196), ('ta ,', 195), ('ki che', 193), ('mʼu ko', 193), ('le̩ ko', 193), ('; e̩ne̩', 193), ('gbogbo wa', 191), ('Abu ki', 191), ('ef e̩wñ', 190), ('ko ñw', 189), ('ki je̩', 189), ('. U', 188), ('iche̩bo̩ e̩gujo', 188), (', dagba', 188), ('unyi O̩jo̩', 187), ('kakini :', 186), ('ge̩ n.', 186), ('ugbo du', 186), ('Tak abo', 186), ('n. Todu', 185), ('ki ño̩', 185), ('le .', 184), ('ñw amone̩', 184), (', Iche̩wñ', 182), ('jo̩ ,', 182), ('; e̩wñ', 181), ('ta ?', 181), ('ma ki', 180), ('o̩jo̩ le̩', 180), ('o̩gba Jihofa', 180), ('alu kʼi', 179), ('de̩ ;', 179), ('ma ko̩', 179), ('ef uwñ', 179), ('Taku Defid', 179), ('du la', 178), ('ka kʼi', 178), ('che ;', 176), ('Jihofa ka-i', 176), ('Oñ e̩gba', 176), ('ef abo', 175), ('ñwa ñw', 175), (', ki', 174), (', ka', 173), ('ki nyo̩', 172), ('. Omi', 172), ('one̩ ,', 171), (', kʼama', 171), (', kʼa', 171), ('abo ki', 171), ('aka ñw', 171), ('n. Taku', 170), ('le̩ ka', 170), ('ko ma', 170), ('la je̩', 169), ('ane̩ Ijipti', 168), ('du ñwu', 168), ('ka ku', 167), (', abe̩le̩', 167), ('ki muda', 166), ('ma fʼu', 166), ('Mose̩s kakini', 166), ('E̩ne̩ du', 165), ('; owñ', 165), ('todu ma', 165), ('Juda ,', 165), ('Jihofa aka', 165), ('o̩mo̩ ,', 164), ('ma ku', 163), ('dohi kakini', 162), ('abo Lifai', 162), ('te̩ ;', 161), ('o̩mo̩ .', 161), ('ki ku', 161), (', Ame̩', 160), ('Todu i', 159), ('chʼabo ku', 159), ('Ondu ,', 158), ('Tak abu', 158), ('la bi', 156), ('le̩ kpai', 156), ('ka le̩', 156), ('dagba i', 156), ('ma muda', 155), ('mi .', 155), ('Taku Mose̩s', 155), ('. O̩jo̩', 154), ('mʼowñ du', 154), ('mʼuma ko', 154), ('? Taku', 154), ('abu ki', 153), ('abo Filistia', 153), ('Defid ,', 153), ('le̩ ki', 152), ('; uwe̩', 152), ('ñw onu', 152), ('kwane̩ ,', 151), ('todabu ku', 151), ('ma bi', 149), ('kʼame̩ ki', 149), ('je̩ ,', 149), ('Jihofa ;', 149), ('me̩ ma', 149), ('eju ,', 148), ('; u', 148), ('ma jʼef', 148), ('du n', 147), ('uche̩ichi uche̩ichi', 147), ('kʼe̩ne̩ du', 147), ('n :', 146), ('i lewa', 146), ('owñ le̩', 146), ('teju alu', 146), ('ma do̩', 145), ('ma kpa', 145), ('kʼe̩ che', 145), (', ef', 144), ('abo unyi', 144), ('me̩ che', 144), ('ta n', 143), ('ma le', 142), ('ka kʼomi', 142), ('unyi akwo̩ra', 142), ('e̩gba du', 142), ('i ki', 141), ('n. I', 141), (': todu', 140), ('Jihofa la', 140), ('O̩jo̩ .', 140), ('unyi le̩', 140), ('me̩ kakini', 140), ('ko ,', 139), ('; todule̩', 139), (', e̩gbale̩', 139), ('owñ che', 138), ('dufu wa', 138), (', iche̩wñ', 138), ('de̩ :', 137), ('eju Jihofa', 137), ('ki dʼef', 137), ('Israe̩l .', 137), ('meji ,', 136), ('i je̩', 136), ('du ;', 135), ('ñw one̩', 134), ('O̩jo̩ le̩', 134), ('e̩ ,', 134), ('du ef', 133), ('ko̩la ñw', 133), ('. Ame̩', 133), ('kʼi ache', 133), ('ka-i .', 133), ('abo le̩', 132), ('dohi ñw', 132), ('kʼOndu Jihofa', 132), ('li ka', 131), ('kʼi ne̩', 131), ('o̩la ,', 130), ('wa ñwu', 130), ('rinyo̩ ,', 130), ('; I', 130), ('la de̩', 129), ('onobule̩ le̩', 129), ('. Iche̩wñ', 129), ('ewo ewo', 129), ('la ka', 128), ('o̩wo̩ o̩pata', 128), ('ame̩ ki', 127), ('wʼugbo mi', 127), (', tode̩gba', 126), ('Ondu Jihofa', 126), ('oñ abo', 126), ('unyabo ujeju', 126), ('. Jihofa', 124), ('du ma', 124), (', amo̩ma', 123), ('du kʼu', 123), ('kpʼabo ku', 123), (', o̩jo̩', 122), ('oj uwo', 122), ('? Todu', 122), ('le̩ wa', 122), ('iko le̩', 122), ('oñ a', 122), ('n. Todule̩', 121), ('kʼe̩ ka', 120), ('wa ñw', 120), ('e̩wñ iche̩bo̩', 120), ('chema ka', 119), ('; abe̩le̩', 119), ('. Owñ', 119), ('le̩ che', 118), ('ka ,', 118), ('Oñ abo', 118), ('lewa ,', 118), ('o̩la Jihofa', 118), ('todu ku', 118), ('ne̩ ,', 117), ('la ko̩', 116), ('i ma', 116), ('ojoji ojoji', 116), ('unyi abo', 116), ('Jihofa le̩', 116), ('ma wa', 116), ('Je̩rusale̩m ,', 116), ('Jisus ka', 116), ('ma le̩', 115), ('; abo', 115), ('todabu kʼi', 115), ('ma kwo', 115), ('alu du', 114), ('O̩jo̩ ki', 114), ('o̩pata o̩gane̩', 114), ('ki mud', 114), ('onu Juda', 114), ('. Go', 113), ('ma mu', 113), ('e̩ .', 113), (', A', 113), ('Abo ku', 113), ('naka ñwu', 113), ('ma e̩wñ', 112), ('te̩ ñw', 112), ('le̩ ge̩', 111), ('; omi', 111), ('o̩gbo̩ meji', 111), ('Jihofa ñwa', 111), ('alo ,', 111), ('ma neke', 111), ('kʼi dʼef', 111), (', e-le̩', 111), ('wa le̩', 109), ('wa ;', 109), ('leku ,', 109), ('e̩wñ kʼi', 109), ('ama ka', 109), ('i chaka', 109), ('onu Israe̩l', 109), ('ñwu Defid', 109), ('Ame̩ ki', 108), ('i le', 108), ('kʼe̩ ma', 108), ('du kʼe̩', 108), ('amone̩ du', 108), (', E̩gba', 108), ('oñ omi', 107), (', tod', 107), ('kpai e̩ne̩', 107), ('kʼi ka', 107), ('ñw me̩', 107), ('onu Babilo̩n', 107), ('uwe̩ ,', 106), ('che :', 106), ('chaka ;', 106), ('chʼe̩ne̩ ki', 106), ('ochochi ,', 106), ('gbo̩ ,', 106), ('muda che̩wñ', 106), (', Tak', 105), ('le̩ n.', 105), ('o̩ma-wñ ,', 105), ('. Abo-i', 105), ('; alu', 105), ('nʼe̩ne̩ du', 105), (', O̩ma', 105), ('chi ku', 105), (', Abo', 105), ('kiafo̩ le̩', 105), ('che le̩', 104), ('i laño̩', 104), ('u ;', 104), ('wane̩ ,', 104), ('o̩pata ate̩', 104), ('kʼi ño̩', 103), ('ma hi', 103), ('; kpai', 102), ('abo du', 102), ('u ka', 102), ('meji le̩', 101), ('la mʼu', 101), ('e-ku ma', 101), ('owñ chʼabo', 101), ('ki railo', 101), ('e̩wñ ñw', 101), ('du wa', 101), ('; todabu', 101), ('todu Jihofa', 101), ('ñw amo̩ma', 101), ('tak uwe̩', 101), ('che ñw', 101), ('che ku', 101), (', Ugbo', 100), ('kʼi je̩', 100), ('gugu ef', 100), ('kʼuwe̩ ki', 100), ('Abe̩le̩ ma', 100), ('du ka', 100), ('e̩wñ le̩', 100), ('o̩jo̩ uñmi', 100), ('; Todu', 100), ('kpai amo̩ma-wñ', 99), ('meji .', 99), ('oñ e̩ne̩', 99), ('do̩ wa', 99), ('e̩wñ ogu', 99), ('Todule̩ abu', 99), ('Abe̩le̩ i', 97), ('chi kʼe̩', 97), ('awa ,', 97), ('ma de̩', 97), ('Mose̩s kpai', 97), ('uña kiafo̩', 97), ('ef ume̩', 97), ('la fʼe̩wñ', 96), ('kʼi laño̩', 96), ('e̩wñ chi', 96), ('daka ,', 96), ('; Jihofa', 96), ('kpai ef', 96), ('Abu ku', 96), (', kʼame̩', 96), ('E̩ la', 96), ('Jihofa de̩', 96), ('Jihofa O̩jo̩-me̩', 96), ('oñ abu', 95), ('da ,', 95), ('I ño̩', 95), ('amone̩ ku', 95), ('kpai amo̩ma', 95), ('I chaka', 95), ('Ochochi ,', 94), ('tak e̩', 94), ('ki deju', 94), ('ñw o̩la-wñ', 94), ('mi ;', 94), ('e̩gba le̩', 94), ('ki bie̩ne̩', 94), ('naka ñw', 94), ('kʼi de̩', 93), ('ma laño̩', 93), ('de̩ n', 93), ('kʼi chʼe̩wñ', 93), ('oñ me̩', 93), ('iche̩bo̩ adure', 93), ('Me̩ go', 92), ('oji ,', 92), ('kʼi du', 91), ('o̩jo̩ mebie', 91), ('todu me̩', 91), ('ko ñwu', 91), ('E̩wñ ki', 91), (', Todule̩', 90), ('che n', 90), ('e̩wñ ,', 90), ('nyʼo̩gwo̩ko̩ ugbo', 90), ('ef uma', 90), ('Je̩rusale̩m .', 90), ('omi ,', 89), ('ma gbo̩', 89), ('ame̩wño̩re̩ egini', 89), ('du kpa', 89), ('e̩gba kʼu', 89), ('mi n', 89), ('ge̩ ?', 89), ('kpa ;', 89), ('dohi ñwu', 89), ('i fʼu', 89), ('ñw o̩la-ma', 88), ('we̩ ,', 88), ('kwef abo', 88), ('ma jʼugbo-wñ', 88), ('du ji', 88), ('Todule̩ ,', 88), ('kʼe̩ je̩', 88), ('ubi ,', 88), ('te̩ n', 88), ('. Taki', 87), ('. O̩do̩', 87), ('? E̩wñ', 87), ('dufu .', 87), (', Alu', 87), ('Israe̩l du', 87), ('oji ma', 87), ('abo o̩lo̩pu', 87), ('atama le̩', 87), (', o̩wo̩', 86), ('je̩ .', 86), ('ñw e̩wñ', 86), ('ogu nyoke', 86), ('ki dago', 86), ('lewa ugbo', 86), ('iche̩bo̩ le̩', 86), ('u n', 86), ('le̩ te̩', 85), ('le̩ i', 85), ('; chai', 85), ('abe̩k i', 85), ('akakini ,', 85), ('li abu', 85), ('mud e̩wñ', 85), ('U la', 85), ('Omi la', 85), ('wa che', 85), ('o̩wo̩ amone̩', 85), ('o̩jo̩ du', 85), ('che alu', 84), ('? Todule̩', 84), ('todu e̩wñ', 84), ('uwo le̩', 84), ('e̩do̩ ,', 84), ('kʼi mud', 84), ('a la', 84), ('todu abo', 84), ('? Ma', 84), ('E̩gba ku', 84), (', kʼuwe̩', 84), ('Tak uwe̩', 84), ('. O̩la', 84), ('nyoke meji', 83), ('du le', 83), ('Ijipti ,', 83), ('alu le̩', 83), ('aka ñwu', 83), ('fʼu li', 83), ('Israe̩l ;', 83), ('la ache', 83), ('la li', 82), ('owñ ,', 82), ('de̩ ?', 82), ('ta .', 82), ('ma da', 82), ('ubi .', 82), ('taa ?', 82), ('onu kakini', 82), (', kpʼabo', 82), ('Abu kʼOndu', 82), ('ama ki', 81), ('dʼodu-wñ ko̩', 81), (', akwo̩ra', 81), ('ugbo kʼi', 81), ('ka-i ,', 81), ('gu ef', 81), ('tod e̩wñ', 81), ('du te̩', 81), ('dʼoji dufu', 81), ('ki akpo', 81), (', e-ki', 80), ('Jihofa O̩jo̩', 80), ('oñ e̩', 80), ('che kʼi', 80), ('nana ,', 80), ('Jihofa kakini', 80), ('amo̩ma e̩ne̩ke̩le̩', 80), ('la fʼu', 80), ('ko̩la ñwu', 80), ('n. Me̩', 80), ('aje̩ e̩wñ', 80), ('tabale ,', 80), ('mama ta', 80), ('adu ñw', 80), ('kpai Aro̩n', 80), ('rinyo̩ .', 80), ('ikpo unyi', 80), ('chʼone̩ icham', 80), ('che ma', 79), ('eju .', 79), ('uwe̩ la', 79), ('le̩ kʼi', 79), ('ef aje̩tachi', 79), ('kakini .', 79), ('lewatu ,', 79), ('i dohi', 79), ('u li', 79), ('ma dʼoji', 79), ('lʼo daka', 79), ('onu .', 79), ('la ma', 78), ('gugu oj', 78), ('ma dʼu', 78), ('i chane̩', 78), ('wa jo̩', 78), ('ke ,', 77), ('e̩ne̩ke̩le̩ kpai', 77), ('daka .', 77), ('e̩wñ ele', 77), ('akwo̩ra unyi-ma', 77), ('tef unyi', 77), ('la neke', 77), ('o̩la le̩', 77), (', naka', 77), ('ujeju abudo̩', 77), ('le̩ li', 76), ('ki jʼef', 76), ('. E̩gbale̩', 76), ('ko̩ ,', 76), ('oñ uwe̩', 76), ('ki dab', 76), ('Juda kpai', 76), ('chaka kpai', 76), ('Taku So̩l', 76), ('e̩do̩ ekono', 76), ('o̩wo̩ olodudu', 75), ('dabi wa', 75), ('le̩ lewa', 75), ('la dʼef', 75), ('jʼef o̩wo̩', 75), ('uña ugugu', 75), ('O̩jo̩ e-Israe̩l', 75), ('chaka dʼabe̩le̩', 75), ('O O̩jo̩', 75), ('che Jihofa', 74), ('omi la', 74), ('ki ka', 74), (', kʼomi', 74), ('ne̩ .', 74), ('tak abo', 74), ('i mud', 74), ('jo̩ .', 74), ('ño̩ dabi', 74), ('u kʼi', 74), (', Oñ', 74), ('gba ,', 74), ('Ma muda', 74), ('bi ñw', 73), ('. Alu', 73), ('naje̩ ñw', 73), ('todu omi', 73), ('omune̩ ,', 73), ('le̩ dufu', 73), ('mu ,', 73), ('me̩ta ,', 73), ('kpai ane̩', 73), ('bʼo̩ te̩', 73), ('ño̩ ka', 73), ('Me̩ la', 73), ('ke .', 73), ('ef ewo', 73), ('tane̩ ,', 73), (', todule̩', 73), ('de ,', 73), ('Mose̩s ,', 73), ('Todu ma', 73), ('nʼugbo du', 73), ('kpa ma', 73), ('amone̩ wewe', 73), ('Defid kakini', 73), (', ane̩', 72), (', e̩ne̩ne̩ne̩ne̩', 72), ('la gugu', 72), ('e̩ne̩ ku', 72), ('me̩ go', 72), ('bʼane̩ ma', 72), ('dago ,', 72), ('ma fʼe̩wñ', 72), ('kwʼoj ane̩', 72), ('kpe̩ mi', 72), ('ma gba', 72), ('Tak amone̩', 72), ('unyi Israe̩l', 72), ('kpai todu', 72), ('Jihofa aka-i', 72), (': oñ', 71), ('le̩ ?', 71), ('e̩ne̩ke̩le̩ ,', 71), ('abe̩le̩ i', 71), ('Jihofa kʼi', 71), ('tak ama', 71), ('kpai alu', 71), ('ma fu', 71), (', Todabu', 71), ('wa ku', 71), ('n. Ama', 71), ('; Uwe̩', 71), ('ma kʼe̩wñ', 71), (', o̩la', 71), ('chʼicham nyʼo̩gwo̩ko̩', 71), ('uwñ .', 71), ('Babilo̩n ,', 71), ('ku Jisus', 71), ('? Uwe̩', 70), ('O̩jo̩ ;', 70), ('oj ubo̩', 70), ('la aje̩', 70), ('ta n.', 70), ('todu kʼu', 70), ('mʼumi du', 70), ('me̩ ka', 70), ('kwʼo̩mo̩ le', 70), ('ma n.', 70), ('kʼabo ku', 70), ('ka kakini', 70), ('Todule̩ me̩', 70), ('o̩wo̩ abo', 70), ('Israe̩l le̩', 70), ('ache ,', 70), ('ujeju le̩', 70), (', kpʼe̩wñ', 70), ('Todu abu', 70), ('abudo̩ Ondu', 70), ('o̩la-wñ ,', 69), ('. Odu', 69), ('ogbegbele̩ .', 69), ('ma chʼabo', 69), ('; O', 69), ('o̩la ki', 69), ('Jisus ,', 69), (', one̩', 68), ('wa kʼi', 68), ('unyi unyi', 68), ('E̩wñ du', 68), ('ki jo̩', 68), ('o̩wo̩ ,', 68), ('kʼi we', 68), ('jo̩ ñw', 68), ('uwñ ,', 67), ('che̩ko̩ ñw', 67), ('alo waa', 67), (') ,', 67), ('Jihofa wʼugbo', 67), ('me̩ le̩', 67), ('n. Abe̩le̩', 67), ('ugbo abo', 67), ('ka ki', 67), ('ki ne̩', 67), (', (', 67), ('? Me̩', 67), ('Todu ,', 67), ('ej o̩na', 67), ('Ama abu', 67), ('fo̩ ,', 66), ('je̩ ;', 66), ('du che', 66), ('abu kʼu', 66), (', la', 66), ('chuu .', 66), (': i', 66), ('gbo̩ ka', 66), ('li ef', 66), ('jʼef unyi', 66), ('le̩ ku', 66), ('Israe̩l kakini', 66), ('ki gbiti', 66), (', Ama', 66), ('fʼe̩wñ ki', 66), ('. O', 66), ('ñw Jihofa', 66), ('; ame̩', 65), ('kʼi li', 65), ('e̩wñ eku', 65), ('me̩lu ,', 65), ('du kpai', 65), ('; abu', 65), ('ane̩ uwo', 65), ('kʼe̩ li', 65), (', e-kʼi', 65), ('du n.', 65), ('Tak aboke̩le̩', 65), ('i ache', 65), ('iche̩wñ ku', 65), ('kwef e̩wñ', 65), (', Lo', 65), ('? E̩ne̩', 65), ('Jihofa che', 65), ('o̩lo̩pu o̩lo̩pu', 65), ('Ami ,', 65), ('O ,', 65), ('abo Juda', 65), ('O̩jo̩ la', 64), ('omi le̩', 64), ('ma gugu', 64), ('me̩gwa ,', 64), ('kʼu che', 64), ('i kwane̩', 64), ('le̩ ño̩', 64), ('Oñ amo̩ma', 64), ('lewatu e̩gba', 64), ('abo Ijipti', 64), ('e̩gba kʼe̩', 64), ('chuu ,', 64), ('ugbo ki', 64), ('ji ,', 64), ('kʼodu-wñ ko̩', 64), ('uche̩ichi du', 64), ('kʼi ko', 64), ('a ,', 64), ('. E-le̩', 64), ('onu le̩', 64), ('unyi onu', 64), ('onu Asiria', 64), ('O̩ma one̩', 64), ('me̩ je̩', 63), ('kpai owñ', 63), ('owñ chʼe̩ne̩', 63), ('ma fʼuma', 63), ('amone̩ ,', 63), ('la ko', 63), ('ache kʼi', 63), ('tak a', 63), ('amo̩ma Amo̩n', 63), ('go̩ ñw', 63), ('li e̩wñ', 63), ('che teju', 63), ('O̩jo̩-we̩ ,', 63), ('Jisus dohi', 63), ('i awatu', 62), ('Tak e̩ne̩', 62), ('O̩jo̩ kʼi', 62), ('je̩ e̩wñ', 62), ('le̩ kpa', 62), ('Todu e̩ne̩', 62), ('uwo uwo', 62), ('Defid ka', 62), ('okoke du', 61), ('Abu kʼi', 61), ('lale gu', 61), ('kʼu ma', 61), ('gbogbo taku', 61), ('ki chi', 61), ('; a', 61), ('ma alu', 61), ('gbogbo tʼeñini', 61), ('ki du', 61), ('owñ chʼe-kʼi', 61), ('kʼi chʼo̩ma', 61), ('le ;', 61)]\n"
     ]
    }
   ],
   "source": [
    "import pandas as pd\n",
    "from collections import Counter\n",
    "import nltk\n",
    "from nltk.tokenize import word_tokenize\n",
    "import nltk\n",
    "# nltk.download('punkt')\n",
    "\n",
    "\n",
    "# Load the merged CSV file\n",
    "df = pd.read_csv('merged_bible.csv')\n",
    "\n",
    "# Combine all Igala text into a single string\n",
    "igala_text = ' '.join(df['Igala_Text'].dropna()) \n",
    "\n",
    "# Tokenize the text (split into words)\n",
    "words = word_tokenize(igala_text.lower())\n",
    "\n",
    "# Calculate word frequencies\n",
    "word_counts = Counter(words)\n",
    "\n",
    "# Function to generate n-grams\n",
    "def generate_ngrams(text, n):\n",
    "    tokens = word_tokenize(text)\n",
    "    ngrams = nltk.ngrams(tokens, n)\n",
    "    return [' '.join(gram) for gram in ngrams]\n",
    "\n",
    "# Generate 2-word phrases (bigrams) and calculate their frequencies\n",
    "phrases = generate_ngrams(igala_text, 2)\n",
    "phrase_counts = Counter(phrases)\n",
    "\n",
    "# Print the 10 most frequent phrases\n",
    "print(phrase_counts.most_common(1000))\n"
   ]
  },
  {
   "cell_type": "code",
   "execution_count": 4,
   "id": "3bb8e7bf-e8b1-42a6-bb55-f97739ae804c",
   "metadata": {},
   "outputs": [
    {
     "data": {
      "image/png": "[encoded data removed]",
      "text/plain": [
       "<Figure size 1000x600 with 1 Axes>"
      ]
     },
     "metadata": {},
     "output_type": "display_data"
    }
   ],
   "source": [
    "import pandas as pd\n",
    "from collections import Counter\n",
    "import nltk\n",
    "from nltk.tokenize import word_tokenize\n",
    "import matplotlib.pyplot as plt\n",
    "\n",
    "# Load the merged CSV file\n",
    "df = pd.read_csv('merged_bible.csv')\n",
    "\n",
    "# Combine all Igala text into a single string\n",
    "igala_text = ' '.join(df['Igala_Text'].dropna()) \n",
    "\n",
    "# Tokenize the text (split into words)\n",
    "words = word_tokenize(igala_text.lower())\n",
    "\n",
    "# Calculate word frequencies\n",
    "word_counts = Counter(words)\n",
    "\n",
    "# Function to generate n-grams\n",
    "def generate_ngrams(text, n):\n",
    "    tokens = word_tokenize(text)\n",
    "    ngrams = nltk.ngrams(tokens, n)\n",
    "    return [' '.join(gram) for gram in ngrams]\n",
    "\n",
    "# Generate 2-word phrases (bigrams) and calculate their frequencies\n",
    "phrases = generate_ngrams(igala_text, 3)\n",
    "phrase_counts = Counter(phrases)\n",
    "\n",
    "# Extract the most common phrases and their frequencies\n",
    "top_phrases = phrase_counts.most_common(20)\n",
    "\n",
    "# Plot the graph\n",
    "plt.figure(figsize=(10, 6))\n",
    "plt.barh([phrase[0] for phrase in top_phrases], [phrase[1] for phrase in top_phrases])\n",
    "plt.xlabel('Frequency')\n",
    "plt.ylabel('Phrases')\n",
    "plt.title('Top 10 Most Common Phrases in Igala Text')\n",
    "plt.gca().invert_yaxis()  # Invert y-axis to have the most common phrase at the top\n",
    "plt.show()\n"
   ]
  },
  {
   "cell_type": "code",
   "execution_count": 3,
   "id": "0fb6a54f-9504-42b1-8328-f6a26b91d8ca",
   "metadata": {},
   "outputs": [
    {
     "name": "stdout",
     "output_type": "stream",
     "text": [
      "CUDA is available.\n",
      "Number of CUDA devices: 1\n",
      "Current CUDA device: 0\n",
      "Device name: NVIDIA GeForce RTX 3060 Laptop GPU\n"
     ]
    }
   ],
   "source": [
    "import torch\n",
    "\n",
    "if torch.cuda.is_available():\n",
    "    print(\"CUDA is available.\")\n",
    "    print(f\"Number of CUDA devices: {torch.cuda.device_count()}\")\n",
    "    print(f\"Current CUDA device: {torch.cuda.current_device()}\")\n",
    "    print(f\"Device name: {torch.cuda.get_device_name(torch.cuda.current_device())}\")\n",
    "else:\n",
    "    print(\"CUDA is not available.\")\n"
   ]
  },
  {
   "cell_type": "code",
   "execution_count": null,
   "id": "76aca1b1-9075-4559-8630-ba6d02ab5b3a",
   "metadata": {},
   "outputs": [],
   "source": []
  }
 ],
 "metadata": {
  "kernelspec": {
   "display_name": "Python 3 (ipykernel)",
   "language": "python",
   "name": "python3"
  },
  "language_info": {
   "codemirror_mode": {
    "name": "ipython",
    "version": 3
   },
   "file_extension": ".py",
   "mimetype": "text/x-python",
   "name": "python",
   "nbconvert_exporter": "python",
   "pygments_lexer": "ipython3",
   "version": "3.11.5"
  }
 },
 "nbformat": 4,
 "nbformat_minor": 5
}
