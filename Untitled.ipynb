{
 "cells": [
  {
   "cell_type": "code",
   "execution_count": 2,
   "id": "b785dc45",
   "metadata": {},
   "outputs": [
    {
     "name": "stdout",
     "output_type": "stream",
     "text": [
      "cpu\n"
     ]
    }
   ],
   "source": [
    "import pandas as pd\n",
    "import torch\n",
    "import torch.nn as nn\n",
    "device  = 'cuda' if torch.cuda.is_available() else 'cpu'\n",
    "print(device)\n",
    "# Load the CSV files into pandas DataFrames\n",
    "english_df = pd.read_csv('english_bible.csv') \n",
    "igala_df = pd.read_csv('igala_bible.csv')\n",
    "\n",
    "# Convert columns to consistent types (if needed)\n",
    "english_df['Book'] = english_df['Book'].astype(str)\n",
    "english_df['Chapter'] = english_df['Chapter'].astype(int)\n",
    "english_df['Verse'] = english_df['Verse'].astype(int)\n",
    "\n",
    "igala_df['Book'] = igala_df['Book'].astype(str)\n",
    "igala_df['Chapter'] = igala_df['Chapter'].astype(int)\n",
    "igala_df['Verse'] = igala_df['Verse'].astype(int)\n",
    "\n",
    "# Merge the DataFrames based on \"Book\", \"Chapter\", and \"Verse\"\n",
    "merged_df = pd.merge(english_df, igala_df, on=['Book', 'Chapter', 'Verse'], how='left')\n",
    "\n",
    "# Rename the \"Text\" columns for clarity\n",
    "merged_df = merged_df.rename(columns={'Text_x': 'English_Text', 'Text_y': 'Igala_Text'})\n",
    "\n",
    "# Save the merged DataFrame to a new CSV file\n",
    "merged_df.to_csv('merged_bible.csv', index=False, encoding='utf-8')"
   ]
  },
  {
   "cell_type": "code",
   "execution_count": 3,
   "id": "c81f0da2",
   "metadata": {},
   "outputs": [
    {
     "name": "stdout",
     "output_type": "stream",
     "text": [
      "[('ma', 23376), ('i', 14373), ('ki', 13615), ('ku', 12502), ('la', 10338), ('oñ', 10050), ('kpai', 9440), ('le̩', 9038), ('kʼi', 8822), ('ñw', 8809), ('du', 8170), ('kakini,', 6897), ('tak', 6569), ('me̩', 6112), ('e̩wñ', 5756), ('ka', 5249), ('abo', 4905), ('todu', 4891), ('jihofa', 4581), ('ñwu', 4287), ('ef', 4083), ('u', 3818), ('che', 3588), ('e̩ne̩', 3384), ('n,', 3251), ('o̩jo̩', 3242), ('e̩', 2913), ('taku', 2839), ('kʼe̩', 2776), ('abu', 2502), ('wa', 2481), ('le̩,', 2410), ('alu', 2408), ('ugbo', 2342), ('owñ', 2317), ('n.', 2269), ('e̩gba', 2168), ('omi', 2166), ('uwe̩', 2165), ('ko', 2113), ('unyi', 2058), ('kʼu', 2047), ('muda', 1959), ('ane̩', 1838), ('ño̩', 1838), ('je̩', 1821), ('onu', 1800), ('ama', 1696), ('o̩ma', 1649), ('israe̩l', 1610), ('o̩la', 1549), ('mi', 1466), ('n;', 1451), ('le̩.', 1425), ('chaka', 1366), ('abe̩le̩', 1332), ('li', 1320), ('de̩', 1319), ('amo̩ma', 1308), ('go,', 1266), ('gbogbo', 1262), ('o̩wo̩', 1261), ('a', 1258), ('amone̩', 1257), ('ko̩', 1204), ('te̩', 1128), ('ame̩', 1111), ('tod', 1086), ('todule̩', 1075), ('lewa', 1065), ('jo̩', 1036), ('kʼa', 1026), ('le', 1021), ('one̩', 942), ('ewo', 939), ('jihofa,', 934), ('ne̩', 928), ('mʼu', 924), ('ma,', 912), ('eju', 907), ('iche̩bo̩', 863), ('abe̩k', 852), ('oj', 851), ('ache', 849), ('kwef', 830), ('o̩gba', 829), ('defid', 797), ('kpa', 788), ('iche̩wñ', 763), ('e̩do̩', 762), ('bi', 750), ('chi', 750), ('dab', 735), ('todabu', 718), ('dufu', 714), ('me̩,', 709), ('mose̩s', 704), ('aka', 702), ('jisus', 700), ('fʼu', 695), ('meji', 692), ('e-le̩', 684), ('o', 678), ('oji', 674), ('le̩;', 669), ('dago', 663), ('n?', 650), ('du,', 649), ('gba', 648), ('laño̩', 644), ('oli', 643), ('kwo', 638), ('dʼef', 619), ('de̩,', 618), ('kʼomi', 615), ('chʼe̩wñ', 611), ('ogu', 607), ('o̩do̩', 606), ('n', 599), ('e̩ne̩ke̩le̩', 598), ('ñwa', 596), ('te̩,', 591), ('aje̩', 583), ('kʼuwe̩', 583), ('mud', 576), ('ge̩.', 575), ('ge̩', 574), ('gugu', 573), ('do̩', 569), ('kʼe̩wñ', 566), ('chai', 564), ('tef', 556), ('jʼef', 550), ('onobule̩', 543), ('uche̩ichi', 542), ('iko', 536), ('gbo̩', 535), ('uwo', 528), ('awa', 525), ('juda', 519), ('me̩.', 518), ('neke', 518), ('kpe̩', 516), ('kwane̩', 515), ('fʼe̩wñ', 503), ('bo̩', 502), ('che,', 499), ('we', 499), ('mak', 498), ('de̩.', 491), ('icham', 490), ('onugo', 488), ('ma.', 488), ('o̩mo̩', 485), ('ondu', 483), ('wa,', 481), ('nyʼo̩gwo̩ko̩', 476), ('da', 471), ('mu', 465), ('wʼugbo', 463), ('dohi', 458), ('kiafo̩', 457), ('nyi', 456), ('kʼama', 455), ('o̩na', 453), ('ta', 444), ('odu', 443), ('wewe', 440), ('je̩rusale̩m', 440), ('dabe̩ne̩', 436), ('alo', 433), ('kʼame̩', 431), ('adu', 430), ('nʼe̩wñ', 422), ('che̩wñ', 420), ('ge̩,', 418), ('kʼabo', 412), ('nyoke', 411), ('omune̩', 407), ('chʼabo', 405), ('ijipti', 404), ('ubi', 401), ('o̩lo̩pu', 400), ('fu', 399), ('nyo̩', 394), ('dodo', 394), ('no̩', 392), ('chane̩', 389), ('mi,', 384), ('uko̩lo̩', 381), ('che.', 380), ('lef', 375), ('me̩;', 370), ('ojane̩', 370), ('hi', 365), ('dagba', 364), ('akwo̩ra', 359), ('chaka,', 357), ('fʼuma', 355), ('kpʼabo', 353), ('e̩gbale̩', 352), ('e-ki', 350), ('o̩la-wñ', 350), ('kʼo̩jo̩', 348), ('afu', 344), ('dabi', 342), ('so̩l', 341), ('do̩mo̩', 336), ('aboke̩le̩', 336), ('uña', 333), ('israe̩l,', 332), ('ujeju', 329), ('ko̩la', 329), ('atama', 327), ('chema', 321), ('chʼe̩ne̩', 321), ('ne', 319), ('ojoji', 318), ('kʼe̩ne̩', 313), ('ibe', 310), ('kpʼe̩wñ', 310), ('tane̩', 308), ('o̩ko̩', 307), ('ubo̩', 307), ('amatama', 307), ('te̩.', 306), ('teju', 306), ('de', 303), ('u,', 302), ('nyʼugbo', 297), ('mebie', 295), ('uche̩', 294), ('go', 292), ('efu', 292), ('lo', 290), ('o̩jo̩,', 286), ('o̩gbo̩', 283), ('e̩bie̩ne̩', 283), ('lifai', 281), ('me̩ta', 279), ('ochu', 276), ('kʼone̩', 275), ('o̩pata', 273), ('dʼu', 273), ('ji', 269), ('ma;', 267), ('kpa,', 267), ('aku', 263), ('nana', 262), ('ohimini', 260), ('aro̩n', 260), ('ako', 259), ('kate', 258), ('mʼe̩wñ', 256), ('akpa', 255), ('ra', 255), ('lile', 254), ('naka', 254), ('rinyo̩', 253), ('gu', 252), ('uwñ', 252), ('we̩', 251), ('ajo̩', 247), ('akwo', 246), ('agba', 244), ('u.', 243), ('mudabi', 243), ('una', 239), ('dufu,', 238), ('filistia', 237), ('egini', 234), ('eku', 232), ('eche', 230), ('kide̩', 229), ('tu', 229), ('tʼo̩', 228), ('du.', 227), ('uje̩wñ', 227), ('ali', 227), ('dʼugbo', 226), ('abo-i', 223), ('ru', 223), ('ate̩', 221), ('ge̩;', 221), ('nyʼef', 221), ('ale', 220), ('jihofa.', 218), ('wa.', 218), ('o̩jo̩-we̩', 218), ('achiwebe̩te̩ma', 217), ('ele', 216), ('so̩lo̩mo̩n', 216), ('tene', 215), ('alaku', 211), ('onu,', 211), ('okuta', 210), ('fero', 210), ('railo', 210), ('mute̩gu', 209), ('bʼo̩', 208), ('ejodudu', 207), ('adure', 206), ('unyabo', 206), ('chaka.', 206), ('mʼowñ', 205), ('tode̩gba', 204), ('e̩nyo̩', 204), ('kwane̩,', 204), ('le,', 204), ('kʼowñ', 201), ('jeko̩b', 201), ('mʼuma', 200), ('ochochi,', 199), ('gwo̩ru', 199), ('e̩wñ-i', 199), ('amagboji', 198), ('fʼabo', 198), ('chʼo̩jo̩', 197), ('kpa.', 197), ('e̩gujo', 197), ('kwʼo̩mo̩', 197), ('li,', 196), ('ta,', 195), ('iche̩ka', 195), ('kraisti', 195), ('che̩ko̩', 193), ('bie̩ne̩', 193), ('lugbo', 192), ('ile̩', 191), ('chʼutodu', 191), ('jo̩shua', 190), ('me̩le̩', 189), ('e̩ne̩ne̩ne̩ne̩', 189), ('lewatu', 188), ('kakini:', 186), ('jʼonu', 186), ('le.', 184), ('o̩kpakpa', 182), ('jo̩,', 182), ('wane̩', 181), ('ta?', 181), ('jose̩f', 181), ('e-kʼi', 179), ('de̩;', 179), ('efojale', 178), ('kʼondu', 178), ('one̩,', 176), ('che;', 176), ('agboji', 176), ('iñmi', 175), ('nache', 173), ('tinyo̩', 172), ('tʼef', 172), ('o̩jamalia', 171), ('ro̩', 170), ('kpuche̩', 170), ('fai', 169), ('o̩takada', 169), ('e̩ne̩ʼka', 169), ('e-ma', 169), ('e̩re̩', 169), ('e-wñ', 169), ('maja', 167), ('lale', 167), ('ukpe̩', 167), ('kʼonu', 167), ('deju', 166), ('oko', 165), ('adʼu', 165), ('ata-wñ', 165), ('juda,', 165), ('ojima', 165), ('kraist', 165), ('me̩fa', 164), ('o̩mo̩,', 164), ('rida', 164), ('oka', 163), ('wʼef', 163), ('ofo', 163), ('amonu', 162), ('fe̩', 162), ('amaju', 162), ('te̩;', 161), ('e̩la', 161), ('o̩mo̩.', 161), ('ebraham', 161), ('fe̩do̩', 161), ('kʼo̩la', 160), ('ukpo', 160), ('ab', 159), ('re', 159), ('o̩la-ma', 159), ('kwʼef', 158), ('ata', 158), ('gudu', 158), ('ondu,', 158), ('o̩ya', 157), ('amo̩ma-wñ', 157), ('gbe̩', 156), ('ekeji', 155), ('mi.', 155), ('aje̩tachi', 155), ('ugugu', 155), ('dukpe̩', 154), ('e-ku', 153), ('defid,', 153), ('ene', 152), ('ako̩', 151), ('kwʼugbo', 151), ('chʼo̩ma', 151), ('go̩', 151), ('je̩,', 150), ('abi', 150), ('me̩lu', 149), ('jihofa;', 149), ('babilo̩n', 149), ('eju,', 148), ('o̩go̩', 148), ('o̩gane̩', 147), ('chʼone̩', 147), ('mugudu', 147), ('ej', 147), ('n:', 146), ('o̩jo̩.', 146), ('me̩gwa', 146), ('onuche̩', 146), ('nʼo̩da', 144), ('nʼe̩ne̩', 143), ('naje̩', 142), ('nyʼu', 142), ('ile̩-i', 140), ('leku', 140), ('uko̩', 140), ('ko,', 139), ('akache̩', 139), ('kʼamone̩', 138), ('chʼamo̩ma', 138), ('lewa,', 138), ('pita', 138), ('de̩:', 137), ('gwo', 137), ('israe̩l.', 137), ('meji,', 136), ('uma', 135), ('o̩ma-wñ', 135), ('dʼo̩wo̩', 135), ('dʼoji', 135), ('dachi', 135), ('rikpolo', 135), ('du;', 134), ('ago', 134), ('e̩,', 134), ('na', 134), ('bʼumi', 134), ('lo̩', 133), ('o̩da', 133), ('daka', 133), ('ka-i.', 133), ('po̩l', 133), ('alumeji', 132), ('e̩bie̩', 132), ('bʼuma', 132), ('ako̩la', 132), ('ade̩', 132), ('ekono', 132), ('uwe̩,', 131), ('e-abo', 131), ('tʼugbo', 131), ('kʼo̩la-ma', 131), ('dʼe̩wñ', 131), ('tʼuma', 131), ('chʼohibo̩wo̩', 131), ('o̩la,', 130), ('kad', 130), ('rinyo̩,', 130), ('ufe̩de̩nyo̩', 129), ('ume̩', 129), ('o̩lo̩da', 129), ('ña', 128), ('ukpahiu', 128), ('otete', 128), ('fa', 127), ('tʼabo', 127), ('eti', 127), ('ke̩do̩no', 127), ('olu', 125), ('nʼugbo', 125), ('mʼumi', 125), ('ure̩do̩', 125), ('kʼogu', 124), ('jeju', 124), ('abogijo', 124), ('ojale', 123), ('odu-mi', 123), ('bʼane̩', 123), ('uru', 123), ('e-mi', 123), ('fʼo̩la', 122), ('tule', 121), ('moab', 121), ('she̩ke̩l', 121), ('abe̩re̩me̩le̩', 120), ('bie̩', 120), ('ogbegbele̩', 120), ('je̩re̩maya', 120), ('omi,', 119), ('ka,', 119), ('te̩gu', 119), ('okate', 118), ('ade', 118), ('be̩njamin', 118), ('samiue̩l', 118), ('ebije', 117), ('ne̩,', 117), ('eka', 117), ('aluka', 117), ('ikpo', 117), ('fa-i', 117), ('uyo̩', 116), ('je̩rusale̩m,', 116), ('iye-wñ', 115), ('dʼowñ', 115), ('nadala', 115), ('bu', 114), ('tʼo̩wo̩', 114), ('jo̩rdan', 114), ('ochochi', 114), ('ñmo̩', 114), ('me̩ru', 113), ('e̩.', 113), ('uñmi', 113), ('ame̩wño̩re̩', 112), ('akʼe̩wñ', 112), ('taki', 111), ('alo,', 111), ('ekpikpa', 111), ('gbo̩,', 111), ('o̩ga', 111), ('okoke', 110), ('koji', 110), ('etito̩', 110), ('ba', 110), ('leku,', 109), ('anyo̩', 109), ('o̩me̩me̩le̩', 109), ('rʼef', 109), ('o̩re̩la', 108), ('lule̩', 108), ('wa;', 108), ('fo̩', 108), ('uku', 108), ('dʼuwe̩', 107), ('dojikane̩', 107), ('todule̩,', 107), ('chʼuko̩lo̩', 107), ('akpati', 107), ('joab', 107), ('agbagba', 106), ('o̩ma-wñ,', 106), ('che:', 106), ('chaka;', 106), ('ajifa', 106), ('odu-wñ', 106), ('amo̩n', 106), ('kʼane̩', 105), ('siria', 105), ('ede', 105), ('amo̩jo̩', 105), ('he̩ze̩kaya', 105), ('kenan', 104), ('u;', 104), ('awo̩to̩', 104), ('abobule̩', 104), ('kʼo̩la-wñ', 104), ('gbiti', 104), ('abunyi', 104), ('lo,', 104), ('wane̩,', 104), ('o̩wo̩-wñ', 103), ('kwʼoj', 103), ('aji', 103), ('gujo', 103), ('olodudu', 102), ('amud', 102), ('udu', 102), ('fʼowñ', 102), ('nadu', 102), ('takpa', 102), ('amako̩che̩-wñ', 102), ('ibenu', 101), ('oji-wñ', 101), ('tʼowñ', 101), ('e-o̩jo̩', 101), ('bʼabo', 101), ('abogu', 101), ('o̩ka', 100), ('jo̩n', 100), ('eje̩', 99), ('meji.', 99), ('jadu', 99), ('kʼawa', 99), ('dʼalu', 99), ('dʼumi', 99), ('jo', 99), ('uwe̩do̩', 99), ('amakache̩', 99), ('kaluka', 98), ('ala', 98), ('amone̩-i', 98), ('manasa', 98), ('fʼone̩', 97), ('awa,', 97), ('ihie̩ne̩', 97), ('tʼumi', 96), ('fʼumi', 96), ('daka,', 96), ('ami,', 96), ('dʼodu-wñ', 95), ('da,', 95), ('mama', 95), ('manyʼane̩', 95), ('chʼicham', 94), ('nyu', 94), ('mi;', 94), ('unyi-wñ', 94), ('omu', 94), ('nʼo̩la', 94), ('kwogugu', 94), ('ane̩-i', 94), ('o̩gbadu', 94), ('rʼo̩wo̩', 93), ('ata-mi', 93), ('oji,', 93), ('eju-mi', 93), ('todu,', 93), ('abudo̩', 93), ('re̩', 92), ('o̩jo̩-me̩', 92), ('dʼabe̩le̩', 91), ('manyu', 91), ('o̩la-we̩', 91), ('line̩n', 91), ('kʼafu', 90), ('anana', 90), ('kado', 90), ('o̩jo̩ñwa', 90), ('e̩wñ,', 90), ('ema', 90), ('ame̩wñ', 89), ('murida', 89), ('tʼoj', 89), ('ge̩?', 89), ('kpa;', 89), ('nʼibe', 89), ('je̩rusale̩m.', 89), ('anyi', 88), ('we̩,', 88), ('me̩gweji', 88), ('bibi', 88), ('inaina', 88), ('ubi,', 88), ('o̩chaka-ma', 88), ('chʼonu', 88), ('jʼugbo', 87), ('añwa', 87), ('e̩do̩-wñ', 87), ('alo̩me̩', 87), ('dʼo̩la', 87), ('adabi', 87), ('dufu.', 87), ('ame̩la', 86), ('je̩.', 86), ('ailo', 86), ('odudu', 85), ('o̩kwo̩chageli', 85), ('e̩do̩-mi', 85), ('ledufu', 85), ('akakini,', 85), ('gwe̩', 85), ('e̩ke̩ta', 84), ('año̩', 84), ('jʼane̩', 84), ('e̩do̩,', 84), ('olemi', 84), ('kʼodu-wñ', 84), ('gbʼo̩la', 84), ('ñwo̩che', 84), ('akoko', 84), ('ifraim', 84), ('ijipti,', 83), ('israe̩l;', 83), ('asiria', 82), ('owñ,', 82), ('de̩?', 82), ('ogue̩gwa', 82), ('agugu', 82), ('taa?', 82), ('lʼo̩na', 82), ('akpo', 82), ('lʼo', 82), ('e̩ro', 81), ('ta.', 81), ('hiolo', 81), ('odu-mi,', 81), ('aise̩k', 81), ('ka-i,', 81), ('ubi.', 81), ('agu', 81), ('e̩boma', 81), ('onu.', 81), ('uwa', 81), ('nana,', 80), ('eju-wñ', 80), ('atene', 80), ('agba,', 80), ('nyʼate̩', 80), ('tabale,', 80), ('kʼo̩wo̩', 80), ('ejefu', 80), ('rinyo̩.', 80), ('eñini-i', 79), ('o̩maye', 79), ('kʼamo̩ma', 79), ('eju.', 79), ('tʼe̩wñ', 79), ('fʼeju', 79), ('imo̩to̩', 79), ('kakini.', 79), ('likpa', 79), ('lewatu,', 79), ('ekpa', 79), ('lewʼugbo', 79), ('amu', 79), ('o̩jo̩-wa', 79), ('uko̩-o̩la', 79), ('ada', 78), ('fʼo̩ma', 78), ('jʼugbo-wñ', 78), ('kpabie̩', 78), ('afo̩', 78), ('feju', 78), ('baptism', 78), ('ke,', 77), ('chʼe-ki', 77), ('daka.', 77), ('nako', 77), ('ichi', 77), ('abo-wñ', 77), ('adu-we̩', 77), ('eli', 76), ('ko̩,', 76), ('fʼo̩wo̩', 76), ('o̩la-mi', 76), ('kwodago', 76), ('mufu', 75), ('chʼalu', 75), ('ije̩', 75), ('gba,', 75), ('ara', 75), ('noj', 75), ('bʼef', 75), ('fʼoji', 74), ('o̩maye-wñ', 74), ('ogume̩lu', 74), ('tale', 74), ('o̩jo̩;', 74), ('fʼunyi', 74), ('tʼo̩gba', 74), ('gwa', 74), ('fʼo̩la-wñ', 74), ('jo̩.', 74), ('ja', 74), ('ate̩gu', 74), ('ologbo', 74), ('dure', 74), ('adago', 74), ('kpala', 74), ('odufa', 74), ('chʼef', 74), ('adiko', 73), ('chʼe-kʼi', 73), ('ololo', 73), ('omune̩,', 73), ('ekpo', 73), ('mu,', 73), ('amo̩maye-wñ', 73), ('me̩ta,', 73), ('ne̩.', 73), ('emi', 73), ('ke.', 73), ('kpo̩kpe̩', 73), ('tane̩,', 73), ('efufu', 73), ('de,', 73), ('bʼuwe̩', 73), ('mose̩s,', 73), ('atogwo', 73), ('jisusi', 73), ('nyo̩gba', 72), ('mudu', 72), ('alugbo̩na', 72), ('dago,', 72), ('le̩?', 71), ('omuko̩la', 71), ('e̩ne̩ke̩le̩,', 71), ('e̩do̩-ma', 71), ('ata-we̩', 71), ('ooje', 71), ('oku', 71), ('mʼabo', 71), ('date̩', 71), ('ababale̩', 71), ('uwñ.', 71), ('babilo̩n,', 71), ('ekeji-wñ', 70), ('dʼo̩gba', 70), ('tʼane̩', 70), ('ogbegbele̩.', 70), ('eñini', 70), ('akala', 70), ('jʼoj', 70), ('raku', 70), ('e̩ñwa', 70), ('alale', 70), ('ache,', 70), ('agudu', 70), ('jisus,', 70), ('o̩la-wñ,', 69), ('fai,', 69), ('o̩gba-wñ', 69), ('mʼoji', 69), ('fʼubo̩', 69), ('e-kide̩', 69), ('okolo', 69), ('de̩nyo̩', 68), ('ojibo', 68), ('fʼo̩na', 68), ('dabalu', 68), ('o̩wo̩,', 68), ('fʼekpo', 68), ('jo̩natan', 68), ('je̩ro̩boam', 68), ('uwñ,', 67), ('mʼane̩', 67), ('onobule̩,', 67), ('o̩jo̩-wñ', 67), ('che̩', 67), ('fʼuche̩', 67), ('nyʼuma', 67), ('kwotejugede', 67), ('tʼe̩ne̩', 67), ('ejumomi', 67), ('udala', 67), ('ide', 67), ('chʼo̩la', 67), ('fo̩,', 66), ('adab', 66), ('je̩;', 66), ('akanya', 66), ('kʼunyi', 66), ('chuu.', 66), ('dʼo̩', 66), ('chʼuwe̩', 66), ('abo-mi', 66), ('chʼugbo', 66), ('afe̩do̩', 66), ('tʼuwe̩', 66), ('rʼuma', 66), ('ukpe̩reji', 66), ('amo̩maye,', 66), ('jʼo̩mo̩', 65), ('me̩lu,', 65), ('ujiwe', 65), ('kwʼefojale', 65), ('año̩la', 65), ('rube̩n', 65), ('bʼe̩wñ', 65), ('amata-ma', 65), ('ina', 65), ('o,', 65), ('kpʼef', 65), ('kpʼe̩ne̩', 65), ('chʼomi', 64), ('me̩gwa,', 64), ('egbili', 64), ('todabe̩le̩', 64), ('kajo̩', 64), ('chuu,', 64), ('o̩chaka', 64), ('ado̩', 64), ('ji,', 64), ('daba', 64), ('a,', 64), ('edu', 64), ('lenyo̩', 64), ('yo̩', 64), ('absalom', 64), ('dʼodu', 63), ('adufu', 63), ('eju-we̩', 63), ('amone̩,', 63), ('kaldia', 63), ('amadu', 63), ('e̩do̩-we̩', 63), ('kwa', 63), ('abile', 63), ('o̩jo̩-we̩,', 63), ('afa', 62), ('ka-i', 62), ('fule', 62), ('nyʼumi', 62), ('o̩ma-mi,', 62), ('amo̩maye', 62), ('e-kʼu', 62), ('ogu-wñ', 62), ('bʼo̩la', 62), ('bʼume̩', 62), ('fʼo̩la-ma', 62), ('ego', 62), ('adʼe̩wñ', 62), ('kache̩', 62), ('chʼo', 61), ('tabale', 61), ('ebi', 61), ('akwane̩', 61), ('bʼuwa', 61), ('le;', 61), ('acha', 61), ('no̩,', 61), ('gad', 61), ('agwo̩ru', 61), ('kʼoji', 61), ('ogu,', 61), ('lewane̩', 61), ('umi', 61), ('bʼeju', 60), ('gwu', 60), ('ko̩da', 60), ('oji.', 60), ('owñ.', 60), ('amokuno̩', 60), ('ujiji-wñ', 60), ('anubi', 60), ('otulale', 60), ('fʼume̩', 60), ('tabale.', 59), ('ofo,', 59), ('alule̩', 59), ('adeju', 59), ('bi,', 59), ('o̩mo̩;', 59), ('kwugbo', 59), ('e-we̩', 59), ('ke?', 59), ('ache.', 59), ('ata-mi,', 59), ('wache', 59), ('bʼe̩', 59), ('iso̩', 59), ('ahi', 59), ('e-me̩', 59), ('tejugede', 59), ('iko-wñ', 59), ('unabe̩-wñ', 59), ('ehab', 59), ('kwe̩', 58), ('o̩ya-wñ', 58), ('chʼo̩do̩', 58), ('me̩ta.', 58), ('bʼoji', 58), ('naño̩', 58), ('le̩:', 58), ('gilead', 58), ('gbo', 58), ('ni', 58), ('tinyo̩,', 58), ('samaria', 58), ('ane̩-ile̩', 57), ('eji', 57), ('e̩re̩-wñ', 57), ('e̩yo̩', 57), ('dʼane̩', 57), ('chʼadu', 57), ('amonuche̩', 57), ('tʼunyi', 57), ('noji', 57), ('kpʼone̩', 57), ('nʼoji', 57), ('o̩la-me̩', 57), ('ibi', 57), ('e̩ne̩-i', 57), ('e̩che̩', 57), ('neku', 57), ('uche̩ichi,', 57), ('ajadu', 57), ('e̩chubi', 56), ('ugane̩', 56), ('ame̩we̩', 56), ('chʼewo', 56), ('kadua', 56)]\n"
     ]
    }
   ],
   "source": [
    "import pandas as pd\n",
    "from collections import Counter\n",
    "\n",
    "# Load the merged CSV file\n",
    "df = pd.read_csv('merged_bible.csv')\n",
    "\n",
    "# Combine all Igala text into a single string\n",
    "igala_text = ' '.join(df['Igala_Text'].dropna()) \n",
    "\n",
    "# Tokenize the text (split into words)\n",
    "words = igala_text.lower().split()\n",
    "\n",
    "# Calculate word frequencies\n",
    "word_counts = Counter(words)\n",
    "\n",
    "# Print the 1000 most frequent words\n",
    "print(word_counts.most_common(1000)) "
   ]
  },
  {
   "cell_type": "code",
   "execution_count": 4,
   "id": "d98142af",
   "metadata": {},
   "outputs": [],
   "source": [
    "import pandas as pd\n",
    "\n",
    "# Load the CSV file into a pandas DataFrame \n",
    "df = pd.read_csv('merged_bible.csv') \n",
    "\n",
    "# Drop the specified columns\n",
    "df = df.drop(['Book', 'Chapter', 'Verse'], axis=1)\n",
    "\n",
    "# Save the modified DataFrame to a new CSV file\n",
    "df.to_csv('bible_text_only.csv', index=False) "
   ]
  },
  {
   "cell_type": "code",
   "execution_count": 5,
   "id": "eea82cbf",
   "metadata": {},
   "outputs": [],
   "source": [
    "dd = pd.read_csv('bible_text_only.csv')"
   ]
  },
  {
   "cell_type": "code",
   "execution_count": 6,
   "id": "3dd8c5f1",
   "metadata": {},
   "outputs": [
    {
     "data": {
      "text/html": [
       "<div>\n",
       "<style scoped>\n",
       "    .dataframe tbody tr th:only-of-type {\n",
       "        vertical-align: middle;\n",
       "    }\n",
       "\n",
       "    .dataframe tbody tr th {\n",
       "        vertical-align: top;\n",
       "    }\n",
       "\n",
       "    .dataframe thead th {\n",
       "        text-align: right;\n",
       "    }\n",
       "</style>\n",
       "<table border=\"1\" class=\"dataframe\">\n",
       "  <thead>\n",
       "    <tr style=\"text-align: right;\">\n",
       "      <th></th>\n",
       "      <th>English_Text</th>\n",
       "      <th>Igala_Text</th>\n",
       "    </tr>\n",
       "  </thead>\n",
       "  <tbody>\n",
       "    <tr>\n",
       "      <th>0</th>\n",
       "      <td>In the beginning God created the heaven and th...</td>\n",
       "      <td>E̩gba abakwane̩ ejodudu O̩jo̩ nyi efojale kpai...</td>\n",
       "    </tr>\n",
       "    <tr>\n",
       "      <th>1</th>\n",
       "      <td>And the earth was without form, and void; and ...</td>\n",
       "      <td>Ane̩-ile̩-i la de̩ juguu te̩ ofofo, oñ e̩chubi...</td>\n",
       "    </tr>\n",
       "    <tr>\n",
       "      <th>2</th>\n",
       "      <td>And God said, Let there be light: and there wa...</td>\n",
       "      <td>Oñ O̩jo̩ kakini, Ugane̩ ki do̩mo̩; tak ugane̩ ...</td>\n",
       "    </tr>\n",
       "    <tr>\n",
       "      <th>3</th>\n",
       "      <td>And God saw the light, that</td>\n",
       "      <td>O̩jo̩ la fʼugane̩ le̩ li kʼi nyo̩; tak O̩jo̩ f...</td>\n",
       "    </tr>\n",
       "    <tr>\n",
       "      <th>4</th>\n",
       "      <td>And God called the light Day, and the darkness...</td>\n",
       "      <td>O̩jo̩ la do̩ ugane̩ le̩ ko̩ o̩ro̩ka, e̩chubi i...</td>\n",
       "    </tr>\n",
       "    <tr>\n",
       "      <th>...</th>\n",
       "      <td>...</td>\n",
       "      <td>...</td>\n",
       "    </tr>\n",
       "    <tr>\n",
       "      <th>31075</th>\n",
       "      <td>And the Spirit and the bride say, Come. And le...</td>\n",
       "      <td>TʼAfu, tʼo̩ya-etito̩ le̩ kakini, Lewa. E̩ne̩ k...</td>\n",
       "    </tr>\n",
       "    <tr>\n",
       "      <th>31076</th>\n",
       "      <td>For I testify unto every man that heareth the ...</td>\n",
       "      <td>Omi agbibenu ñw e̩ne̩ du ki agbo̩ o̩la ache̩-e...</td>\n",
       "    </tr>\n",
       "    <tr>\n",
       "      <th>31077</th>\n",
       "      <td>and if any man shall take away from the words ...</td>\n",
       "      <td>i la che̩wñ kʼe̩ne̩ du muchi kwef o̩la ibuku a...</td>\n",
       "    </tr>\n",
       "    <tr>\n",
       "      <th>31078</th>\n",
       "      <td>He which testifieth these things saith,</td>\n",
       "      <td>E̩ne̩ ki gbigbenu e̩wñ-i kakini, I-i; nawa pio...</td>\n",
       "    </tr>\n",
       "    <tr>\n",
       "      <th>31079</th>\n",
       "      <td>The grace of our Lord Jesus Christ</td>\n",
       "      <td>Ufe̩de̩nyo̩ Ondu Jisus Kraisti ki dugbo abo ki...</td>\n",
       "    </tr>\n",
       "  </tbody>\n",
       "</table>\n",
       "<p>31080 rows × 2 columns</p>\n",
       "</div>"
      ],
      "text/plain": [
       "                                            English_Text  \\\n",
       "0      In the beginning God created the heaven and th...   \n",
       "1      And the earth was without form, and void; and ...   \n",
       "2      And God said, Let there be light: and there wa...   \n",
       "3                            And God saw the light, that   \n",
       "4      And God called the light Day, and the darkness...   \n",
       "...                                                  ...   \n",
       "31075  And the Spirit and the bride say, Come. And le...   \n",
       "31076  For I testify unto every man that heareth the ...   \n",
       "31077  and if any man shall take away from the words ...   \n",
       "31078            He which testifieth these things saith,   \n",
       "31079                 The grace of our Lord Jesus Christ   \n",
       "\n",
       "                                              Igala_Text  \n",
       "0      E̩gba abakwane̩ ejodudu O̩jo̩ nyi efojale kpai...  \n",
       "1      Ane̩-ile̩-i la de̩ juguu te̩ ofofo, oñ e̩chubi...  \n",
       "2      Oñ O̩jo̩ kakini, Ugane̩ ki do̩mo̩; tak ugane̩ ...  \n",
       "3      O̩jo̩ la fʼugane̩ le̩ li kʼi nyo̩; tak O̩jo̩ f...  \n",
       "4      O̩jo̩ la do̩ ugane̩ le̩ ko̩ o̩ro̩ka, e̩chubi i...  \n",
       "...                                                  ...  \n",
       "31075  TʼAfu, tʼo̩ya-etito̩ le̩ kakini, Lewa. E̩ne̩ k...  \n",
       "31076  Omi agbibenu ñw e̩ne̩ du ki agbo̩ o̩la ache̩-e...  \n",
       "31077  i la che̩wñ kʼe̩ne̩ du muchi kwef o̩la ibuku a...  \n",
       "31078  E̩ne̩ ki gbigbenu e̩wñ-i kakini, I-i; nawa pio...  \n",
       "31079  Ufe̩de̩nyo̩ Ondu Jisus Kraisti ki dugbo abo ki...  \n",
       "\n",
       "[31080 rows x 2 columns]"
      ]
     },
     "execution_count": 6,
     "metadata": {},
     "output_type": "execute_result"
    }
   ],
   "source": [
    "dd\n"
   ]
  },
  {
   "cell_type": "code",
   "execution_count": 7,
   "id": "826fd763",
   "metadata": {},
   "outputs": [],
   "source": [
    "import pandas as pd\n",
    "\n",
    "# 1. Load the CSV file into a Pandas DataFrame\n",
    "df = pd.read_csv('bible_text_only.csv')\n",
    "\n",
    "# 2. Convert the DataFrame to JSONL\n",
    "with open('bible_data.jsonl', 'w', encoding='utf-8') as jsonl_file:\n",
    "    for index, row in df.iterrows():\n",
    "        data = {\n",
    "            \"English_Text\": row[\"English_Text\"],\n",
    "            \"Igala_Text\": row[\"Igala_Text\"]\n",
    "        }\n",
    "        jsonl_file.write(f\"{data}\\n\")"
   ]
  },
  {
   "cell_type": "code",
   "execution_count": 13,
   "id": "ec7b0d22",
   "metadata": {},
   "outputs": [
    {
     "ename": "ModuleNotFoundError",
     "evalue": "No module named 'google.gemini'",
     "output_type": "error",
     "traceback": [
      "\u001b[1;31m---------------------------------------------------------------------------\u001b[0m",
      "\u001b[1;31mModuleNotFoundError\u001b[0m                       Traceback (most recent call last)",
      "Cell \u001b[1;32mIn[13], line 4\u001b[0m\n\u001b[0;32m      1\u001b[0m \u001b[38;5;66;03m# This is a CONCEPTUAL example and may need \u001b[39;00m\n\u001b[0;32m      2\u001b[0m \u001b[38;5;66;03m# to be adapted based on the Gemini API.\u001b[39;00m\n\u001b[1;32m----> 4\u001b[0m \u001b[38;5;28;01mfrom\u001b[39;00m \u001b[38;5;21;01mgoogle\u001b[39;00m\u001b[38;5;21;01m.\u001b[39;00m\u001b[38;5;21;01mgemini\u001b[39;00m \u001b[38;5;28;01mimport\u001b[39;00m GeminiClient \n\u001b[0;32m      6\u001b[0m \u001b[38;5;66;03m# 1. Initialize the Gemini client\u001b[39;00m\n\u001b[0;32m      7\u001b[0m gemini_client \u001b[38;5;241m=\u001b[39m GeminiClient() \n",
      "\u001b[1;31mModuleNotFoundError\u001b[0m: No module named 'google.gemini'"
     ]
    }
   ],
   "source": [
    "# This is a CONCEPTUAL example and may need \n",
    "# to be adapted based on the Gemini API.\n",
    "\n",
    "from google.gemini import GeminiClient \n",
    "\n",
    "# 1. Initialize the Gemini client\n",
    "gemini_client = GeminiClient() \n",
    "\n",
    "# 2. Prepare your training data (adjust path and format as needed)\n",
    "training_data = \"path/to/your/training_data.jsonl\"\n",
    "\n",
    "# 3. Define fine-tuning parameters (refer to Gemini documentation)\n",
    "training_config = {\n",
    "    \"model\": \"gemini-pro\", # Replace with the desired model\n",
    "    # ... other parameters like learning_rate, batch_size, etc.\n",
    "}\n",
    "\n",
    "# 4. Start the fine-tuning job\n",
    "job = gemini_client.fine_tune(\n",
    "    training_data=training_data,\n",
    "    training_config=training_config\n",
    ")\n",
    "\n",
    "# 5. Monitor the job (optional)\n",
    "job.monitor() \n",
    "\n",
    "# 6. Save and use the fine-tuned model\n",
    "# (Follow instructions from Gemini documentation)"
   ]
  },
  {
   "cell_type": "code",
   "execution_count": null,
   "id": "693607f4",
   "metadata": {},
   "outputs": [],
   "source": []
  }
 ],
 "metadata": {
  "kernelspec": {
   "display_name": "cuda-gpt",
   "language": "python",
   "name": "cuda"
  },
  "language_info": {
   "codemirror_mode": {
    "name": "ipython",
    "version": 3
   },
   "file_extension": ".py",
   "mimetype": "text/x-python",
   "name": "python",
   "nbconvert_exporter": "python",
   "pygments_lexer": "ipython3",
   "version": "3.11.5"
  }
 },
 "nbformat": 4,
 "nbformat_minor": 5
}
